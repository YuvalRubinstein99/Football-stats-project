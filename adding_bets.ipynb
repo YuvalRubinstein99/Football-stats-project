{
 "cells": [
  {
   "cell_type": "code",
   "execution_count": 6,
   "metadata": {},
   "outputs": [],
   "source": [
    "import pandas as pd\n",
    "import numpy as np\n",
    "from difflib import SequenceMatcher\n"
   ]
  },
  {
   "cell_type": "code",
   "execution_count": 7,
   "metadata": {},
   "outputs": [],
   "source": [
    "def find_closest_name(name, other_names):\n",
    "    best_score = 0\n",
    "    best_name = None\n",
    "    checked = []\n",
    "    for other_name in other_names:\n",
    "        if other_name in checked:\n",
    "            continue\n",
    "        if(isinstance(other_name, float)):\n",
    "            continue\n",
    "        score = SequenceMatcher(None, name, other_name).ratio()\n",
    "        if score != None and score > best_score:\n",
    "            best_score = score\n",
    "            best_name = other_name\n",
    "        checked.append(other_name)\n",
    "    return best_name\n",
    "def find_unmatches(years, league):\n",
    "    unmatches = {}\n",
    "    for y in years:\n",
    "        table = pd.read_csv(league+\"_data/\"+league+y+'_with_form.csv')\n",
    "        betting = pd.read_csv(league+\"_data/\"+league+y+'_bets.csv')\n",
    "        teams = list(table['home_team_name'].values)\n",
    "        bet_teams = list(betting['HomeTeam'].values)\n",
    "        checked = []\n",
    "        for t in teams:\n",
    "            if(not isinstance(t, str)):\n",
    "                continue\n",
    "            if  t not in bet_teams and t not in checked:\n",
    "                checked.append(t)\n",
    "                unmatches[t] = find_closest_name(t, bet_teams)\n",
    "        return unmatches\n"
   ]
  },
  {
   "cell_type": "code",
   "execution_count": 8,
   "metadata": {},
   "outputs": [],
   "source": [
    "def add_betting(df, betting):\n",
    "    for index, row in df.iterrows():\n",
    "        # add the AvgA, AvgD, AvgH for home_team_name == HomeTeam and away_team_name === AwayTeam\n",
    "        home_team_name = row['home_team_name']\n",
    "        away_team_name = row['away_team_name']\n",
    "        # Filter betting DataFrame to find corresponding rows\n",
    "        if (not home_team_name in betting['HomeTeam'].values):\n",
    "            print(\"Fix the names:\",home_team_name)\n",
    "        if (not away_team_name  in betting['AwayTeam'].values):\n",
    "            print(\"Fix the names:\",away_team_name)\n",
    "        matching_row = betting[(betting['HomeTeam'] == home_team_name) & (betting['AwayTeam'] == away_team_name)]\n",
    "        matching_row = matching_row.iloc[0]\n",
    "\n",
    "        df.at[index, 'B365A'] = matching_row['B365A']\n",
    "        df.at[index, 'B365D'] = matching_row['B365D']\n",
    "        df.at[index, 'B365H'] = matching_row['B365H']\n",
    "\n"
   ]
  },
  {
   "cell_type": "code",
   "execution_count": 22,
   "metadata": {},
   "outputs": [
    {
     "name": "stdout",
     "output_type": "stream",
     "text": [
      "{'Hannover 96': 'Hannover', 'Köln': 'FC Koln', 'Eint Frankfurt': 'Ein Frankfurt', 'Hertha BSC': 'Hertha', 'Paderborn 07': 'Paderborn', 'Gladbach': \"M'gladbach\", 'Hamburger SV': 'Hamburg', 'Mainz 05': 'Mainz', 'Darmstadt 98': 'Darmstadt', 'Ingolstadt 04': 'Ingolstadt', 'Düsseldorf': 'Fortuna Dusseldorf', 'Nürnberg': 'Nurnberg', 'Arminia': 'Bielefeld', 'Greuther Fürth': 'Greuther Furth', 'Sporting Gijón': 'Sp Gijon', 'Leganés': 'Leganes', 'Alavés': 'Alaves', 'Cádiz': 'Cadiz', 'SPAL': 'Spal'}\n",
      "finished year 1415\n",
      "finished year 1516\n",
      "finished year 1718\n",
      "finished year 1819\n",
      "finished year 1920\n",
      "finished year 2021\n",
      "finished year 2122\n",
      "finished year 2223\n",
      "{'Málaga': 'Malaga', 'Almería': 'Almeria', 'Celta Vigo': 'Celta', 'Rayo Vallecano': 'Vallecano', 'Córdoba': 'Cordoba', 'Athletic Club': 'Ath Bilbao', 'Atlético Madrid': 'Ath Madrid', 'Espanyol': 'Espanol', 'La Coruña': 'La Coruna', 'Real Sociedad': 'Sociedad', 'Darmstadt 98': 'Darmstadt', 'Ingolstadt 04': 'Ingolstadt', 'Düsseldorf': 'Fortuna Dusseldorf', 'Nürnberg': 'Nurnberg', 'Arminia': 'Bielefeld', 'Greuther Fürth': 'Greuther Furth', 'Sporting Gijón': 'Sp Gijon', 'Leganés': 'Leganes', 'Alavés': 'Alaves', 'Cádiz': 'Cadiz', 'SPAL': 'Spal'}\n",
      "finished year 1415\n",
      "finished year 1516\n",
      "finished year 1718\n",
      "finished year 1819\n",
      "finished year 1920\n",
      "finished year 2021\n",
      "finished year 2122\n",
      "finished year 2223\n",
      "{'Hellas Verona': 'Verona', 'Darmstadt 98': 'Darmstadt', 'Ingolstadt 04': 'Ingolstadt', 'Düsseldorf': 'Fortuna Dusseldorf', 'Nürnberg': 'Nurnberg', 'Arminia': 'Bielefeld', 'Greuther Fürth': 'Greuther Furth', 'Sporting Gijón': 'Sp Gijon', 'Leganés': 'Leganes', 'Alavés': 'Alaves', 'Cádiz': 'Cadiz', 'SPAL': 'Spal'}\n",
      "finished year 1415\n",
      "finished year 1516\n",
      "finished year 1718\n",
      "finished year 1819\n",
      "finished year 1920\n",
      "finished year 2021\n",
      "finished year 2122\n",
      "finished year 2223\n"
     ]
    }
   ],
   "source": [
    "years = ['1415','1516','1718','1819','1920','2021','2122','2223']\n",
    "leagues = ['bl','laliga','seriea']\n",
    "\n",
    "for league in leagues:\n",
    "    unmatch = find_unmatches(years,league)\n",
    "    #isoteric instances\n",
    "    unmatch['Darmstadt 98'] = 'Darmstadt'\n",
    "    unmatch['Ingolstadt 04'] = 'Ingolstadt'\n",
    "    unmatch['Düsseldorf'] = 'Fortuna Dusseldorf'\n",
    "    unmatch['Nürnberg'] = 'Nurnberg'\n",
    "    unmatch['Arminia'] = 'Bielefeld'\n",
    "    unmatch['Greuther Fürth'] = 'Greuther Furth'\n",
    "    unmatch['Sporting Gijón'] = 'Sp Gijon'\n",
    "    unmatch['Leganés'] = 'Leganes'\n",
    "    unmatch['Alavés'] = 'Alaves'\n",
    "    unmatch['Cádiz'] = 'Cadiz'\n",
    "    unmatch['SPAL'] = 'Spal'\n",
    "    print(unmatch) # for sanity check\n",
    "    \n",
    "    for year in years:\n",
    "        # first we open\n",
    "        df = pd.read_csv(league+\"_data/\"+league+year+\"_with_form.csv\")\n",
    "        bet = pd.read_csv(league+\"_data/\"+league+year+\"_bets.csv\")\n",
    "        for um in unmatch.keys():\n",
    "            bet['HomeTeam'] = bet['HomeTeam'].replace(unmatch[um], um)\n",
    "            bet['AwayTeam'] = bet['AwayTeam'].replace(unmatch[um], um)\n",
    "        add_betting(df, bet)\n",
    "        df.to_csv(league+\"_data/\"+league+year+\"_form_bets.csv\")\n",
    "        print('finished year', year)"
   ]
  }
 ],
 "metadata": {
  "kernelspec": {
   "display_name": "base",
   "language": "python",
   "name": "python3"
  },
  "language_info": {
   "codemirror_mode": {
    "name": "ipython",
    "version": 3
   },
   "file_extension": ".py",
   "mimetype": "text/x-python",
   "name": "python",
   "nbconvert_exporter": "python",
   "pygments_lexer": "ipython3",
   "version": "3.8.8"
  }
 },
 "nbformat": 4,
 "nbformat_minor": 2
}
