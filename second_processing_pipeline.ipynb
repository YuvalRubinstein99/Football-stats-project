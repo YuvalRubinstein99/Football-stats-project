{
 "cells": [
  {
   "cell_type": "markdown",
   "metadata": {},
   "source": [
    "## Second round of processing ##\n",
    "\n",
    "Here we will do another round of processing only this time we will take each of the values of the players, so we have for each attribute:\n",
    "mean, min, max, sd.\n",
    "\n",
    "Later we will split our modeling work into 2 ways:\n",
    "1. Emphasis on explainability, using an RMD file\n",
    "2. Emphasis on prediciton, using a jupyter notebook file"
   ]
  },
  {
   "cell_type": "code",
   "execution_count": 5,
   "metadata": {},
   "outputs": [],
   "source": [
    "import pandas as pd\n",
    "import numpy as np\n",
    "\n",
    "pd.set_option('display.max_columns', 500)\n",
    "pd.set_option('display.width', 1000)"
   ]
  },
  {
   "cell_type": "markdown",
   "metadata": {},
   "source": [
    "Since we already processed for each season seperatly the ratings, there will be no problems unifying them"
   ]
  },
  {
   "cell_type": "code",
   "execution_count": 6,
   "metadata": {},
   "outputs": [],
   "source": [
    "def third_largest(row):\n",
    "    sorted_row = sorted(row, reverse=True)\n",
    "    return sorted_row[2] if len(sorted_row) >= 3 else None\n",
    "\n",
    "def third_smallest(row):\n",
    "    sorted_row = sorted(row)\n",
    "    return sorted_row[2] if len(sorted_row) >= 3 else None\n",
    "\n",
    "def get_data_cols(df, att, prefix):\n",
    "    '''\n",
    "    Gets an attribute, and adds columns to show mean, max, min and sd (ignoring zeros) for the first num_players players.\n",
    "\n",
    "    Parameters:\n",
    "    df : The dataframe\n",
    "    att: which attribute (e.g., Weight)\n",
    "    prefix: HomePlayer or AwayPlayer\n",
    "    '''\n",
    "\n",
    "    player_weight_cols = [col for col in df.columns if col.startswith(f\"{prefix}\") and col.endswith(f\"_{att}\")]\n",
    "    att = att.replace('(', ' ')\n",
    "    if not player_weight_cols:\n",
    "        print('no col with', att)\n",
    "        return df\n",
    "\n",
    "    # Select only the columns corresponding to the first num_players players\n",
    "    player_weight_cols_subset = player_weight_cols[:11]  # Selecting the first 11 players\n",
    "\n",
    "    # Replace zeros with NaN\n",
    "    df[player_weight_cols_subset] = df[player_weight_cols_subset].replace(0, np.nan)\n",
    "\n",
    "\n",
    "    if(att == 'Overall'):\n",
    "        df[f\"{prefix}_{att}_max\"] = df[player_weight_cols_subset].max(axis=1, skipna=True)\n",
    "        df[f\"{prefix}_{att}_min\"] = df[player_weight_cols_subset].min(axis=1, skipna=True)\n",
    "        df[f\"{prefix}_{att}_sd\"] = df[player_weight_cols_subset].std(axis=1, skipna=True)\n",
    "        df[f\"{prefix}_{att}_mean\"] = df[player_weight_cols_subset].mean(axis=1, skipna=True)\n",
    "        df[f\"{prefix}_{att}_mean_ln\"] = np.log(df[player_weight_cols_subset]).mean(axis=1, skipna=True)\n",
    "        df[f\"{prefix}_{att}_mean_sqrt\"] = np.sqrt(df[player_weight_cols_subset]).mean(axis=1, skipna=True)\n",
    "        df[f\"{prefix}_3rd_best\"] = df[player_weight_cols_subset].apply(third_largest, axis=1)\n",
    "        df[f\"{prefix}_3rd_worst\"] = df[player_weight_cols_subset].apply(third_smallest, axis=1)\n",
    "\n",
    "\n",
    "    # For bench players (i >= 12)\n",
    "    bench_weight_cols = player_weight_cols[11:]  # Selecting players from index 12 and onwards\n",
    "\n",
    "    # Replace zeros with NaN for bench players\n",
    "    df[bench_weight_cols] = df[bench_weight_cols].replace(0, np.nan)\n",
    "\n",
    "    if(' ' in att): # 2 worded attributes so instead of dribbling total we will have dribbling\n",
    "        df[f\"{prefix}_bench_{att.split()[0]}_mean\"] = df[bench_weight_cols].mean(axis=1, skipna=True)\n",
    "        df[f\"{prefix}_{att.split()[0]}_mean\"] = df[player_weight_cols_subset].mean(axis=1, skipna=True)\n",
    "\n",
    "    else:\n",
    "        df[f\"{prefix}_bench_{att}_mean\"] = df[bench_weight_cols].mean(axis=1, skipna=True)\n",
    "        df[f\"{prefix}_{att}_mean\"] = df[player_weight_cols_subset].mean(axis=1, skipna=True)\n",
    "\n",
    "    if(att == 'Overall'):\n",
    "        df[f\"{prefix}_bench_{att}_max\"] = df[bench_weight_cols].max(axis=1, skipna=True)\n",
    "        df[f\"{prefix}_bench_{att}_min\"] = df[bench_weight_cols].min(axis=1, skipna=True)\n",
    "        df[f\"{prefix}_bench_{att}_sd\"] = df[bench_weight_cols].std(axis=1, skipna=True)\n",
    "        df[f\"{prefix}_bench_{att}_mean\"] = df[player_weight_cols_subset].mean(axis=1, skipna=True)\n",
    "\n",
    "    return df"
   ]
  },
  {
   "cell_type": "code",
   "execution_count": 7,
   "metadata": {},
   "outputs": [],
   "source": [
    "def pipeline(train_arr, test_arr):\n",
    "    train_df = pd.read_csv(train_arr[0])\n",
    "    test_df = pd.read_csv(test_arr[0])\n",
    "    print('started loading train and test')\n",
    "    for i in range (1, len(train_arr)):\n",
    "        train_df = pd.concat([train_df, pd.read_csv(train_arr[i])], ignore_index=True, axis=0)\n",
    "    print(\"Finished loading train\")\n",
    "    for i in range (1, len(test_arr)):\n",
    "        test_df = pd.concat([test_df, pd.read_csv(test_arr[i])], ignore_index=True, axis=0)\n",
    "    print(\"Finished Loading test\")\n",
    "    att_list = ['Overall']\n",
    "    numerical_cols = []\n",
    "    statistic_list = ['mean', 'min', 'max', 'sd', 'median', '3rd_best', '3rd_worst']\n",
    "    #statistic_list = ['mean' ,'sd']\n",
    "    #binary_cols = ['Home_Adv_Team', 'Strong_Away'] ## From ar\n",
    "    \n",
    "\n",
    "    for att in att_list:\n",
    "        get_data_cols(train_df, att, prefix='HomePlayer')\n",
    "        get_data_cols(train_df, att, prefix='AwayPlayer')\n",
    "        get_data_cols(test_df, att, prefix='HomePlayer')\n",
    "        get_data_cols(test_df, att, prefix='AwayPlayer')\n",
    "    \n",
    "\n",
    "    for col in train_df.columns:\n",
    "        for s in statistic_list:\n",
    "            if s in col:\n",
    "                numerical_cols.append(col)\n",
    "\n",
    "    cat_cols=['home_team_name', 'away_team_name', 'home_score', 'away_score', 'home_GD_prior', \n",
    "              'home_Points_prior', 'home_GD_form', 'home_Points_form',\n",
    "                'away_GD_prior', 'away_Points_prior', 'away_GD_form', 'league',\n",
    "                'away_Points_form','Matchweek', 'B365A', 'B365D', 'B365H']\n",
    "\n",
    "    train_df[numerical_cols + cat_cols].to_csv(\"train.csv\")\n",
    "    test_df[numerical_cols + cat_cols].to_csv(\"test.csv\")"
   ]
  },
  {
   "cell_type": "code",
   "execution_count": 8,
   "metadata": {},
   "outputs": [
    {
     "name": "stdout",
     "output_type": "stream",
     "text": [
      "started loading train and test\n",
      "Finished loading train\n",
      "Finished Loading test\n"
     ]
    },
    {
     "ename": "KeyError",
     "evalue": "\"['leagueaway_Points_form'] not in index\"",
     "output_type": "error",
     "traceback": [
      "\u001b[1;31m---------------------------------------------------------------------------\u001b[0m",
      "\u001b[1;31mKeyError\u001b[0m                                  Traceback (most recent call last)",
      "Cell \u001b[1;32mIn[8], line 9\u001b[0m\n\u001b[0;32m      7\u001b[0m \u001b[38;5;28;01mfor\u001b[39;00m testy \u001b[38;5;129;01min\u001b[39;00m test_years:\n\u001b[0;32m      8\u001b[0m     test\u001b[38;5;241m.\u001b[39mappend(\u001b[38;5;124m'\u001b[39m\u001b[38;5;124mseason_data/season\u001b[39m\u001b[38;5;124m'\u001b[39m\u001b[38;5;241m+\u001b[39mtesty\u001b[38;5;241m+\u001b[39m\u001b[38;5;124m'\u001b[39m\u001b[38;5;124m_proccessed.csv\u001b[39m\u001b[38;5;124m'\u001b[39m)\n\u001b[1;32m----> 9\u001b[0m pipeline(train,\n\u001b[0;32m     10\u001b[0m               test)\n",
      "Cell \u001b[1;32mIn[7], line 35\u001b[0m, in \u001b[0;36mpipeline\u001b[1;34m(train_arr, test_arr)\u001b[0m\n\u001b[0;32m     28\u001b[0m             numerical_cols\u001b[38;5;241m.\u001b[39mappend(col)\n\u001b[0;32m     30\u001b[0m cat_cols\u001b[38;5;241m=\u001b[39m[\u001b[38;5;124m'\u001b[39m\u001b[38;5;124mhome_team_name\u001b[39m\u001b[38;5;124m'\u001b[39m, \u001b[38;5;124m'\u001b[39m\u001b[38;5;124maway_team_name\u001b[39m\u001b[38;5;124m'\u001b[39m, \u001b[38;5;124m'\u001b[39m\u001b[38;5;124mhome_score\u001b[39m\u001b[38;5;124m'\u001b[39m, \u001b[38;5;124m'\u001b[39m\u001b[38;5;124maway_score\u001b[39m\u001b[38;5;124m'\u001b[39m, \u001b[38;5;124m'\u001b[39m\u001b[38;5;124mhome_GD_prior\u001b[39m\u001b[38;5;124m'\u001b[39m, \n\u001b[0;32m     31\u001b[0m           \u001b[38;5;124m'\u001b[39m\u001b[38;5;124mhome_Points_prior\u001b[39m\u001b[38;5;124m'\u001b[39m, \u001b[38;5;124m'\u001b[39m\u001b[38;5;124mhome_GD_form\u001b[39m\u001b[38;5;124m'\u001b[39m, \u001b[38;5;124m'\u001b[39m\u001b[38;5;124mhome_Points_form\u001b[39m\u001b[38;5;124m'\u001b[39m,\n\u001b[0;32m     32\u001b[0m             \u001b[38;5;124m'\u001b[39m\u001b[38;5;124maway_GD_prior\u001b[39m\u001b[38;5;124m'\u001b[39m, \u001b[38;5;124m'\u001b[39m\u001b[38;5;124maway_Points_prior\u001b[39m\u001b[38;5;124m'\u001b[39m, \u001b[38;5;124m'\u001b[39m\u001b[38;5;124maway_GD_form\u001b[39m\u001b[38;5;124m'\u001b[39m, \u001b[38;5;124m'\u001b[39m\u001b[38;5;124mleague\u001b[39m\u001b[38;5;124m'\u001b[39m\n\u001b[0;32m     33\u001b[0m             \u001b[38;5;124m'\u001b[39m\u001b[38;5;124maway_Points_form\u001b[39m\u001b[38;5;124m'\u001b[39m,\u001b[38;5;124m'\u001b[39m\u001b[38;5;124mMatchweek\u001b[39m\u001b[38;5;124m'\u001b[39m, \u001b[38;5;124m'\u001b[39m\u001b[38;5;124mB365A\u001b[39m\u001b[38;5;124m'\u001b[39m, \u001b[38;5;124m'\u001b[39m\u001b[38;5;124mB365D\u001b[39m\u001b[38;5;124m'\u001b[39m, \u001b[38;5;124m'\u001b[39m\u001b[38;5;124mB365H\u001b[39m\u001b[38;5;124m'\u001b[39m]\n\u001b[1;32m---> 35\u001b[0m train_df[numerical_cols \u001b[38;5;241m+\u001b[39m cat_cols]\u001b[38;5;241m.\u001b[39mto_csv(\u001b[38;5;124m\"\u001b[39m\u001b[38;5;124mtrain.csv\u001b[39m\u001b[38;5;124m\"\u001b[39m)\n\u001b[0;32m     36\u001b[0m test_df[numerical_cols \u001b[38;5;241m+\u001b[39m cat_cols]\u001b[38;5;241m.\u001b[39mto_csv(\u001b[38;5;124m\"\u001b[39m\u001b[38;5;124mtest.csv\u001b[39m\u001b[38;5;124m\"\u001b[39m)\n",
      "File \u001b[1;32mc:\\Users\\Yuval\\anaconda3\\Lib\\site-packages\\pandas\\core\\frame.py:4108\u001b[0m, in \u001b[0;36mDataFrame.__getitem__\u001b[1;34m(self, key)\u001b[0m\n\u001b[0;32m   4106\u001b[0m     \u001b[38;5;28;01mif\u001b[39;00m is_iterator(key):\n\u001b[0;32m   4107\u001b[0m         key \u001b[38;5;241m=\u001b[39m \u001b[38;5;28mlist\u001b[39m(key)\n\u001b[1;32m-> 4108\u001b[0m     indexer \u001b[38;5;241m=\u001b[39m \u001b[38;5;28mself\u001b[39m\u001b[38;5;241m.\u001b[39mcolumns\u001b[38;5;241m.\u001b[39m_get_indexer_strict(key, \u001b[38;5;124m\"\u001b[39m\u001b[38;5;124mcolumns\u001b[39m\u001b[38;5;124m\"\u001b[39m)[\u001b[38;5;241m1\u001b[39m]\n\u001b[0;32m   4110\u001b[0m \u001b[38;5;66;03m# take() does not accept boolean indexers\u001b[39;00m\n\u001b[0;32m   4111\u001b[0m \u001b[38;5;28;01mif\u001b[39;00m \u001b[38;5;28mgetattr\u001b[39m(indexer, \u001b[38;5;124m\"\u001b[39m\u001b[38;5;124mdtype\u001b[39m\u001b[38;5;124m\"\u001b[39m, \u001b[38;5;28;01mNone\u001b[39;00m) \u001b[38;5;241m==\u001b[39m \u001b[38;5;28mbool\u001b[39m:\n",
      "File \u001b[1;32mc:\\Users\\Yuval\\anaconda3\\Lib\\site-packages\\pandas\\core\\indexes\\base.py:6200\u001b[0m, in \u001b[0;36mIndex._get_indexer_strict\u001b[1;34m(self, key, axis_name)\u001b[0m\n\u001b[0;32m   6197\u001b[0m \u001b[38;5;28;01melse\u001b[39;00m:\n\u001b[0;32m   6198\u001b[0m     keyarr, indexer, new_indexer \u001b[38;5;241m=\u001b[39m \u001b[38;5;28mself\u001b[39m\u001b[38;5;241m.\u001b[39m_reindex_non_unique(keyarr)\n\u001b[1;32m-> 6200\u001b[0m \u001b[38;5;28mself\u001b[39m\u001b[38;5;241m.\u001b[39m_raise_if_missing(keyarr, indexer, axis_name)\n\u001b[0;32m   6202\u001b[0m keyarr \u001b[38;5;241m=\u001b[39m \u001b[38;5;28mself\u001b[39m\u001b[38;5;241m.\u001b[39mtake(indexer)\n\u001b[0;32m   6203\u001b[0m \u001b[38;5;28;01mif\u001b[39;00m \u001b[38;5;28misinstance\u001b[39m(key, Index):\n\u001b[0;32m   6204\u001b[0m     \u001b[38;5;66;03m# GH 42790 - Preserve name from an Index\u001b[39;00m\n",
      "File \u001b[1;32mc:\\Users\\Yuval\\anaconda3\\Lib\\site-packages\\pandas\\core\\indexes\\base.py:6252\u001b[0m, in \u001b[0;36mIndex._raise_if_missing\u001b[1;34m(self, key, indexer, axis_name)\u001b[0m\n\u001b[0;32m   6249\u001b[0m     \u001b[38;5;28;01mraise\u001b[39;00m \u001b[38;5;167;01mKeyError\u001b[39;00m(\u001b[38;5;124mf\u001b[39m\u001b[38;5;124m\"\u001b[39m\u001b[38;5;124mNone of [\u001b[39m\u001b[38;5;132;01m{\u001b[39;00mkey\u001b[38;5;132;01m}\u001b[39;00m\u001b[38;5;124m] are in the [\u001b[39m\u001b[38;5;132;01m{\u001b[39;00maxis_name\u001b[38;5;132;01m}\u001b[39;00m\u001b[38;5;124m]\u001b[39m\u001b[38;5;124m\"\u001b[39m)\n\u001b[0;32m   6251\u001b[0m not_found \u001b[38;5;241m=\u001b[39m \u001b[38;5;28mlist\u001b[39m(ensure_index(key)[missing_mask\u001b[38;5;241m.\u001b[39mnonzero()[\u001b[38;5;241m0\u001b[39m]]\u001b[38;5;241m.\u001b[39munique())\n\u001b[1;32m-> 6252\u001b[0m \u001b[38;5;28;01mraise\u001b[39;00m \u001b[38;5;167;01mKeyError\u001b[39;00m(\u001b[38;5;124mf\u001b[39m\u001b[38;5;124m\"\u001b[39m\u001b[38;5;132;01m{\u001b[39;00mnot_found\u001b[38;5;132;01m}\u001b[39;00m\u001b[38;5;124m not in index\u001b[39m\u001b[38;5;124m\"\u001b[39m)\n",
      "\u001b[1;31mKeyError\u001b[0m: \"['leagueaway_Points_form'] not in index\""
     ]
    }
   ],
   "source": [
    "train_years = ['1415','1516','1617', '1718','1819','1920','2021','2122']\n",
    "test_years = ['2223']\n",
    "train = []\n",
    "test = []\n",
    "for trainy in train_years:\n",
    "    train.append('season_data/season'+trainy+'_proccessed.csv')\n",
    "for testy in test_years:\n",
    "    test.append('season_data/season'+testy+'_proccessed.csv')\n",
    "pipeline(train,\n",
    "              test)"
   ]
  }
 ],
 "metadata": {
  "kernelspec": {
   "display_name": "base",
   "language": "python",
   "name": "python3"
  },
  "language_info": {
   "codemirror_mode": {
    "name": "ipython",
    "version": 3
   },
   "file_extension": ".py",
   "mimetype": "text/x-python",
   "name": "python",
   "nbconvert_exporter": "python",
   "pygments_lexer": "ipython3",
   "version": "3.12.4"
  }
 },
 "nbformat": 4,
 "nbformat_minor": 2
}
